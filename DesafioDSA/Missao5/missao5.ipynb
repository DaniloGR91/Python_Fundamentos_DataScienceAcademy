{
 "cells": [
  {
   "cell_type": "markdown",
   "metadata": {},
   "source": [
    "# <font color='blue'>Data Science Academy - Python Fundamentos - Capítulo 7</font>\n",
    "\n",
    "## Download: http://github.com/dsacademybr"
   ]
  },
  {
   "cell_type": "code",
   "execution_count": 26,
   "metadata": {},
   "outputs": [
    {
     "output_type": "stream",
     "name": "stdout",
     "text": "Versão da Linguagem Python Usada Neste Jupyter Notebook: 3.7.6\n"
    }
   ],
   "source": [
    "# Versão da Linguagem Python\n",
    "from platform import python_version\n",
    "print('Versão da Linguagem Python Usada Neste Jupyter Notebook:', python_version())"
   ]
  },
  {
   "cell_type": "markdown",
   "metadata": {},
   "source": [
    "## Missão: Analisar o Comportamento de Compra de Consumidores."
   ]
  },
  {
   "cell_type": "markdown",
   "metadata": {},
   "source": [
    "## Nível de Dificuldade: Alto"
   ]
  },
  {
   "cell_type": "markdown",
   "metadata": {},
   "source": [
    "Você recebeu a tarefa de analisar os dados de compras de um web site! Os dados estão no formato JSON e disponíveis junto com este notebook.\n",
    "\n",
    "No site, cada usuário efetua login usando sua conta pessoal e pode adquirir produtos à medida que navega pela lista de produtos oferecidos. Cada produto possui um valor de venda. Dados de idade e sexo de cada usuário foram coletados e estão fornecidos no arquivo JSON.\n",
    "\n",
    "Seu trabalho é entregar uma análise de comportamento de compra dos consumidores. Esse é um tipo de atividade comum realizado por Cientistas de Dados e o resultado deste trabalho pode ser usado, por exemplo, para alimentar um modelo de Machine Learning e fazer previsões sobre comportamentos futuros.\n",
    "\n",
    "Mas nesta missão você vai analisar o comportamento de compra dos consumidores usando o pacote Pandas da linguagem Python e seu relatório final deve incluir cada um dos seguintes itens:\n",
    "\n",
    "** Contagem de Consumidores **\n",
    "\n",
    "* Número total de consumidores\n",
    "\n",
    "\n",
    "** Análise Geral de Compras **\n",
    "\n",
    "* Número de itens exclusivos\n",
    "* Preço médio de compra\n",
    "* Número total de compras\n",
    "* Rendimento total\n",
    "\n",
    "\n",
    "** Informações Demográficas Por Gênero **\n",
    "\n",
    "* Porcentagem e contagem de compradores masculinos\n",
    "* Porcentagem e contagem de compradores do sexo feminino\n",
    "* Porcentagem e contagem de outros / não divulgados\n",
    "\n",
    "\n",
    "** Análise de Compras Por Gênero **\n",
    "\n",
    "* Número de compras\n",
    "* Preço médio de compra\n",
    "* Valor Total de Compra\n",
    "* Compras for faixa etária\n",
    "\n",
    "\n",
    "** Identifique os 5 principais compradores pelo valor total de compra e, em seguida, liste (em uma tabela): **\n",
    "\n",
    "* Login\n",
    "* Número de compras\n",
    "* Preço médio de compra\n",
    "* Valor Total de Compra\n",
    "* Itens mais populares\n",
    "\n",
    "\n",
    "** Identifique os 5 itens mais populares por contagem de compras e, em seguida, liste (em uma tabela): **\n",
    "\n",
    "* ID do item\n",
    "* Nome do item\n",
    "* Número de compras\n",
    "* Preço do item\n",
    "* Valor Total de Compra\n",
    "* Itens mais lucrativos\n",
    "\n",
    "\n",
    "** Identifique os 5 itens mais lucrativos pelo valor total de compra e, em seguida, liste (em uma tabela): **\n",
    "\n",
    "* ID do item\n",
    "* Nome do item\n",
    "* Número de compras\n",
    "* Preço do item\n",
    "* Valor Total de Compra\n",
    "\n",
    "\n",
    "** Como considerações finais: **\n",
    "\n",
    "* Seu script deve funcionar para o conjunto de dados fornecido.\n",
    "* Você deve usar a Biblioteca Pandas e o Jupyter Notebook.\n"
   ]
  },
  {
   "cell_type": "code",
   "execution_count": 27,
   "metadata": {
    "collapsed": true
   },
   "outputs": [],
   "source": [
    "# Imports\n",
    "import pandas as pd\n",
    "import numpy as np"
   ]
  },
  {
   "cell_type": "code",
   "execution_count": 28,
   "metadata": {},
   "outputs": [
    {
     "output_type": "execute_result",
     "data": {
      "text/plain": "          Login  Idade       Sexo  Item ID  \\\n0     Aelalis34     38  Masculino      165   \n1        Eolo46     21  Masculino      119   \n2   Assastnya25     34  Masculino      174   \n3  Pheusrical25     21  Masculino       92   \n4        Aela59     23  Masculino       63   \n\n                                Nome do Item  Valor  \n0                Bone Crushing Silver Skewer   3.37  \n1  Stormbringer, Dark Blade of Ending Misery   2.32  \n2                            Primitive Blade   2.46  \n3                               Final Critic   1.36  \n4                             Stormfury Mace   1.27  ",
      "text/html": "<div>\n<style scoped>\n    .dataframe tbody tr th:only-of-type {\n        vertical-align: middle;\n    }\n\n    .dataframe tbody tr th {\n        vertical-align: top;\n    }\n\n    .dataframe thead th {\n        text-align: right;\n    }\n</style>\n<table border=\"1\" class=\"dataframe\">\n  <thead>\n    <tr style=\"text-align: right;\">\n      <th></th>\n      <th>Login</th>\n      <th>Idade</th>\n      <th>Sexo</th>\n      <th>Item ID</th>\n      <th>Nome do Item</th>\n      <th>Valor</th>\n    </tr>\n  </thead>\n  <tbody>\n    <tr>\n      <th>0</th>\n      <td>Aelalis34</td>\n      <td>38</td>\n      <td>Masculino</td>\n      <td>165</td>\n      <td>Bone Crushing Silver Skewer</td>\n      <td>3.37</td>\n    </tr>\n    <tr>\n      <th>1</th>\n      <td>Eolo46</td>\n      <td>21</td>\n      <td>Masculino</td>\n      <td>119</td>\n      <td>Stormbringer, Dark Blade of Ending Misery</td>\n      <td>2.32</td>\n    </tr>\n    <tr>\n      <th>2</th>\n      <td>Assastnya25</td>\n      <td>34</td>\n      <td>Masculino</td>\n      <td>174</td>\n      <td>Primitive Blade</td>\n      <td>2.46</td>\n    </tr>\n    <tr>\n      <th>3</th>\n      <td>Pheusrical25</td>\n      <td>21</td>\n      <td>Masculino</td>\n      <td>92</td>\n      <td>Final Critic</td>\n      <td>1.36</td>\n    </tr>\n    <tr>\n      <th>4</th>\n      <td>Aela59</td>\n      <td>23</td>\n      <td>Masculino</td>\n      <td>63</td>\n      <td>Stormfury Mace</td>\n      <td>1.27</td>\n    </tr>\n  </tbody>\n</table>\n</div>"
     },
     "metadata": {},
     "execution_count": 28
    }
   ],
   "source": [
    "# Carrega o arquivo\n",
    "load_file = \"dados_compras.json\"\n",
    "df = pd.read_json(load_file, orient = \"records\")\n",
    "df.head()"
   ]
  },
  {
   "cell_type": "markdown",
   "metadata": {},
   "source": [
    "## Informações Sobre os Consumidores"
   ]
  },
  {
   "cell_type": "code",
   "execution_count": 29,
   "metadata": {},
   "outputs": [
    {
     "output_type": "execute_result",
     "data": {
      "text/plain": "            Login  Idade       Sexo  Item ID  \\\n0       Aelalis34     38  Masculino      165   \n1          Eolo46     21  Masculino      119   \n2     Assastnya25     34  Masculino      174   \n3    Pheusrical25     21  Masculino       92   \n4          Aela59     23  Masculino       63   \n..            ...    ...        ...      ...   \n775       Eural50     22  Masculino       98   \n776    Lirtossa78     14  Masculino      104   \n777    Tillyrin30     20  Masculino      117   \n778    Quelaton80     20  Masculino       75   \n779        Alim85     23   Feminino      107   \n\n                                  Nome do Item  Valor  \n0                  Bone Crushing Silver Skewer   3.37  \n1    Stormbringer, Dark Blade of Ending Misery   2.32  \n2                              Primitive Blade   2.46  \n3                                 Final Critic   1.36  \n4                               Stormfury Mace   1.27  \n..                                         ...    ...  \n775                Deadline, Voice Of Subtlety   3.62  \n776                         Gladiator's Glaive   1.36  \n777          Heartstriker, Legacy of the Light   4.15  \n778                    Brutality Ivory Warmace   1.72  \n779                  Splitter, Foe Of Subtlety   3.61  \n\n[780 rows x 6 columns]",
      "text/html": "<div>\n<style scoped>\n    .dataframe tbody tr th:only-of-type {\n        vertical-align: middle;\n    }\n\n    .dataframe tbody tr th {\n        vertical-align: top;\n    }\n\n    .dataframe thead th {\n        text-align: right;\n    }\n</style>\n<table border=\"1\" class=\"dataframe\">\n  <thead>\n    <tr style=\"text-align: right;\">\n      <th></th>\n      <th>Login</th>\n      <th>Idade</th>\n      <th>Sexo</th>\n      <th>Item ID</th>\n      <th>Nome do Item</th>\n      <th>Valor</th>\n    </tr>\n  </thead>\n  <tbody>\n    <tr>\n      <th>0</th>\n      <td>Aelalis34</td>\n      <td>38</td>\n      <td>Masculino</td>\n      <td>165</td>\n      <td>Bone Crushing Silver Skewer</td>\n      <td>3.37</td>\n    </tr>\n    <tr>\n      <th>1</th>\n      <td>Eolo46</td>\n      <td>21</td>\n      <td>Masculino</td>\n      <td>119</td>\n      <td>Stormbringer, Dark Blade of Ending Misery</td>\n      <td>2.32</td>\n    </tr>\n    <tr>\n      <th>2</th>\n      <td>Assastnya25</td>\n      <td>34</td>\n      <td>Masculino</td>\n      <td>174</td>\n      <td>Primitive Blade</td>\n      <td>2.46</td>\n    </tr>\n    <tr>\n      <th>3</th>\n      <td>Pheusrical25</td>\n      <td>21</td>\n      <td>Masculino</td>\n      <td>92</td>\n      <td>Final Critic</td>\n      <td>1.36</td>\n    </tr>\n    <tr>\n      <th>4</th>\n      <td>Aela59</td>\n      <td>23</td>\n      <td>Masculino</td>\n      <td>63</td>\n      <td>Stormfury Mace</td>\n      <td>1.27</td>\n    </tr>\n    <tr>\n      <th>...</th>\n      <td>...</td>\n      <td>...</td>\n      <td>...</td>\n      <td>...</td>\n      <td>...</td>\n      <td>...</td>\n    </tr>\n    <tr>\n      <th>775</th>\n      <td>Eural50</td>\n      <td>22</td>\n      <td>Masculino</td>\n      <td>98</td>\n      <td>Deadline, Voice Of Subtlety</td>\n      <td>3.62</td>\n    </tr>\n    <tr>\n      <th>776</th>\n      <td>Lirtossa78</td>\n      <td>14</td>\n      <td>Masculino</td>\n      <td>104</td>\n      <td>Gladiator's Glaive</td>\n      <td>1.36</td>\n    </tr>\n    <tr>\n      <th>777</th>\n      <td>Tillyrin30</td>\n      <td>20</td>\n      <td>Masculino</td>\n      <td>117</td>\n      <td>Heartstriker, Legacy of the Light</td>\n      <td>4.15</td>\n    </tr>\n    <tr>\n      <th>778</th>\n      <td>Quelaton80</td>\n      <td>20</td>\n      <td>Masculino</td>\n      <td>75</td>\n      <td>Brutality Ivory Warmace</td>\n      <td>1.72</td>\n    </tr>\n    <tr>\n      <th>779</th>\n      <td>Alim85</td>\n      <td>23</td>\n      <td>Feminino</td>\n      <td>107</td>\n      <td>Splitter, Foe Of Subtlety</td>\n      <td>3.61</td>\n    </tr>\n  </tbody>\n</table>\n<p>780 rows × 6 columns</p>\n</div>"
     },
     "metadata": {},
     "execution_count": 29
    }
   ],
   "source": [
    "df"
   ]
  },
  {
   "cell_type": "code",
   "execution_count": 30,
   "metadata": {
    "collapsed": true
   },
   "outputs": [
    {
     "output_type": "execute_result",
     "data": {
      "text/plain": "573"
     },
     "metadata": {},
     "execution_count": 30
    }
   ],
   "source": [
    "len(df['Login'].unique())"
   ]
  },
  {
   "cell_type": "markdown",
   "metadata": {},
   "source": [
    "### O WebSite teve um total de 573 logins diferentes realizando compras"
   ]
  },
  {
   "cell_type": "markdown",
   "metadata": {},
   "source": [
    "## Análise Geral de Compras\n",
    "- Número de itens exclusivos\n",
    "- Preço médio de compra\n",
    "- Número total de compras\n",
    "- Rendimento total"
   ]
  },
  {
   "cell_type": "markdown",
   "metadata": {},
   "source": [
    "### Os seguintes itens foram vendidos"
   ]
  },
  {
   "cell_type": "code",
   "execution_count": 31,
   "metadata": {
    "collapsed": true
   },
   "outputs": [
    {
     "output_type": "stream",
     "name": "stdout",
     "text": "Bone Crushing Silver Skewer\nStormbringer, Dark Blade of Ending Misery\nPrimitive Blade\nFinal Critic\nStormfury Mace\nSleepwalker\nMercenary Sabre\nInterrogator, Blood Blade of the Queen\nGhost Reaver, Longsword of Magic\nExpiration, Warscythe Of Lost Worlds\nDespair, Favor of Due Diligence\nAlpha, Reach of Ending Hope\nDreamkiss\nPiety, Guardian of Riddles\nBonecarvin Battle Axe\nBlood-Forged Skeletal Spine\nTwilight's Carver\nLightning, Etcher of the King\nCeleste\nWinterthorn, Defender of Shifting Worlds\nGlimmer, Ender of the Moon\nPhantomlight\nBrimstone\nDragon's Greatsword\nConqueror Adamantite Mace\nPersuasion\nCrying Steel Sickle\nThe Oculus, Token of Lost Worlds\nGlinting Glass Edge\nWar-Forged Gold Deflector\nShadow Strike, Glory of Ending Hope\nRage, Legacy of the Lone Victor\nBetrayer\nSerenity\nScalpel\nHero Cane\nThorn, Satchel of Dark Souls\nVenom Claymore\nStorm-Weaver, Slayer of Inception\nMalificent Bag\nAgatha\nLazarus, Terror of the Earth\nRitual Mace\nSeverance\nOrenmir\nEndbringer\nStriker\nTrickster\nRetribution Axe\nVerdict\nStormfury Lantern\nBetrayal, Whisper of Grieving Widows\nFlux, Destroyer of Due Diligence\nAzurewrath\nUndead Crusader\nLifebender\nThe Void, Vengeance of Dark Magic\nDarkheart, Butcher of the Champion\nSuspension\nUnending Tyranny\nEternal Cleaver\nHailstorm Shadowsteel Scythe\nDeluge, Edge of the West\nCrucifer\nBlood Infused Guardian\nBlazeguard, Reach of Eternity\nWoeful Adamantite Claymore\nHopeless Ebon Dualblade\nDeathraze\nDarkheart\nExtraction, Quickblade Of Trembling Hands\nBlade of the Grave\nMalice, Legacy of the Queen\nReaper's Toll\nNetherbane\nAlpha\nMisery's End\nSinged Scalpel\nStormcaller\nMercy, Katana of Dismay\nStormfury Longsword\nVindictive Glass Edge\nSpectral Diamond Doomblade\nHeartless Bone Dualblade\nThe Decapitator\nThorn, Conqueror of the Corrupted\nArcane Gem\nAvenger\nVengeance Cleaver\nTorchlight, Bond of Storms\nYearning Crusher\nExiled Mithril Longsword\nDawn\nPiece Maker\nWhistling Mithril Warblade\nMassacre\nFate, Vengeance of Eternal Justice\nTranquility, Razor of Black Magic\nDawne\nDemise\nPossessed Core\nFreak's Bite, Favor of Holy Might\nRiddle, Tribute of Ended Dreams\nHatred\nVictor Iron Spikes\nBlindscythe\nWorldbreaker\nWarped Fetish\nMourning Blade\nSplitter, Foe Of Subtlety\nSplinter\nToothpick\nSwan Song, Gouger Of Terror\nHope's End\nBlazefury, Protector of Delusions\nShadowsteel\nApocalyptic Battlescythe\nWolf, Promise of the Moonwalker\nSpectral Bone Axe\nBrutality Ivory Warmace\nFrenzied Scimitar\nAetherius, Boon of the Blessed\nRelentless Iron Skewer\nWarmonger, Gift of Suffering's End\nHeartseeker, Reaver of Souls\nHellreaver, Heirloom of Inception\nDevine\nFeral Katana\nSpada, Etcher of Hatred\nRenewed Skeletal Katana\nRagnarok\nFury\nOrbit\nFiery Glass Crusader\nWolf\nAbyssal Shard\nWarped Diamond Crusader\nPurgatory, Gem of Regret\nSecond Chance\nSoul Infused Crystal\nChaos, Ender of the End\nWinter's Bite\nYearning Mageblade\nHeartstriker, Legacy of the Light\nAlpha, Oath of Zeal\nEmberling, Defender of Delusions\nGladiator's Glaive\nSinged Onyx Warscythe\nFusion Pummel\nDeadline, Voice Of Subtlety\nCurved Axe\nHaunted Bronzed Bludgeon\nWarped Iron Scimitar\nThirsty Iron Reaver\nFoul Titanium Battle Axe\nAmnesia\nSouleater\nRestored Bauble\nCeleste, Incarnation of the Corrupted\nFaith's Scimitar\nFrenzy, Defender of the Harvest\nOathbreaker, Spellblade of Trials\nNirvana\nSolitude's Reaver\nExiled Doomblade\nRusty Skull\nThunderfury Scimitar\nPutrid Fan\nPursuit, Cudgel of Necromancy\nSun Strike, Jaws of Twisted Visions\nGhastly Adamantite Protector\nDreamsong\nUnholy Wand\nRighteous Might\nOathbreaker, Last Hope of the Breaking Storm\nSoul-Forged Steel Shortsword\nDownfall, Scalpel Of The Emperor\nFoul Edge\nBloodlord's Fetish\n"
    }
   ],
   "source": [
    "for prod in df['Nome do Item'].unique():\n",
    "    print(prod)"
   ]
  },
  {
   "cell_type": "markdown",
   "metadata": {},
   "source": [
    "### O número total de compras foi 780, cada uma tendo valor médio de 2.93"
   ]
  },
  {
   "cell_type": "code",
   "execution_count": 32,
   "metadata": {},
   "outputs": [
    {
     "output_type": "execute_result",
     "data": {
      "text/plain": "            Idade     Item ID       Valor\ncount  780.000000  780.000000  780.000000\nmean    22.729487   91.292308    2.931192\nstd      6.930604   52.707897    1.115780\nmin      7.000000    0.000000    1.030000\n25%     19.000000   44.000000    1.960000\n50%     22.000000   91.000000    2.880000\n75%     25.000000  135.000000    3.910000\nmax     45.000000  183.000000    4.950000",
      "text/html": "<div>\n<style scoped>\n    .dataframe tbody tr th:only-of-type {\n        vertical-align: middle;\n    }\n\n    .dataframe tbody tr th {\n        vertical-align: top;\n    }\n\n    .dataframe thead th {\n        text-align: right;\n    }\n</style>\n<table border=\"1\" class=\"dataframe\">\n  <thead>\n    <tr style=\"text-align: right;\">\n      <th></th>\n      <th>Idade</th>\n      <th>Item ID</th>\n      <th>Valor</th>\n    </tr>\n  </thead>\n  <tbody>\n    <tr>\n      <th>count</th>\n      <td>780.000000</td>\n      <td>780.000000</td>\n      <td>780.000000</td>\n    </tr>\n    <tr>\n      <th>mean</th>\n      <td>22.729487</td>\n      <td>91.292308</td>\n      <td>2.931192</td>\n    </tr>\n    <tr>\n      <th>std</th>\n      <td>6.930604</td>\n      <td>52.707897</td>\n      <td>1.115780</td>\n    </tr>\n    <tr>\n      <th>min</th>\n      <td>7.000000</td>\n      <td>0.000000</td>\n      <td>1.030000</td>\n    </tr>\n    <tr>\n      <th>25%</th>\n      <td>19.000000</td>\n      <td>44.000000</td>\n      <td>1.960000</td>\n    </tr>\n    <tr>\n      <th>50%</th>\n      <td>22.000000</td>\n      <td>91.000000</td>\n      <td>2.880000</td>\n    </tr>\n    <tr>\n      <th>75%</th>\n      <td>25.000000</td>\n      <td>135.000000</td>\n      <td>3.910000</td>\n    </tr>\n    <tr>\n      <th>max</th>\n      <td>45.000000</td>\n      <td>183.000000</td>\n      <td>4.950000</td>\n    </tr>\n  </tbody>\n</table>\n</div>"
     },
     "metadata": {},
     "execution_count": 32
    }
   ],
   "source": [
    "df.describe()"
   ]
  },
  {
   "cell_type": "code",
   "execution_count": 33,
   "metadata": {},
   "outputs": [
    {
     "output_type": "execute_result",
     "data": {
      "text/plain": "2286.33"
     },
     "metadata": {},
     "execution_count": 33
    }
   ],
   "source": [
    "df['Valor'].sum()"
   ]
  },
  {
   "cell_type": "markdown",
   "metadata": {},
   "source": [
    "### Totalizando uma renda total de 2286,33"
   ]
  },
  {
   "cell_type": "markdown",
   "metadata": {},
   "source": [
    "## Análise Demográfica"
   ]
  },
  {
   "cell_type": "markdown",
   "metadata": {},
   "source": [
    "## Informações Demográficas Por Gênero\n",
    "- Porcentagem e contagem de compradores masculinos\n",
    "- Porcentagem e contagem de compradores do sexo feminino\n",
    "- Porcentagem e contagem de outros / não divulgados"
   ]
  },
  {
   "cell_type": "code",
   "execution_count": 34,
   "metadata": {
    "collapsed": true
   },
   "outputs": [],
   "source": [
    "dfLoginSex = df[['Login', 'Sexo']].drop_duplicates()\n",
    "dfLoginSex['Sexo'].value_counts()\n",
    "total = 465 + 100 + 8\n",
    "Masc = 465\n",
    "percMasc = 100*Masc / total\n",
    "Fem = 100\n",
    "percFem = 100 * Fem / total\n",
    "outro = 8\n",
    "percOutro = 100 * outro / total"
   ]
  },
  {
   "cell_type": "code",
   "execution_count": 35,
   "metadata": {},
   "outputs": [
    {
     "output_type": "stream",
     "name": "stdout",
     "text": "Foram um total de 573 consumidores, sendo: \n - 465 do sexo Masculino (81.15%) \n - 100 do sexo Feminino (17.45%) \n - 8 do sexo outro/não divulgado (1.40%)\n"
    }
   ],
   "source": [
    "print(f'Foram um total de {total} consumidores, sendo: \\n \\\n",
    "- {Masc} do sexo Masculino ({percMasc:.2f}%) \\n \\\n",
    "- {Fem} do sexo Feminino ({percFem:.2f}%) \\n \\\n",
    "- {outro} do sexo outro/não divulgado ({percOutro:.2f}%)')"
   ]
  },
  {
   "cell_type": "markdown",
   "metadata": {},
   "source": [
    "## Análise de Compras Por Gênero\n",
    "- Número de compras\n",
    "- Preço médio de compra\n",
    "- Valor Total de Compra\n",
    "- Compras for faixa etária"
   ]
  },
  {
   "cell_type": "code",
   "execution_count": 48,
   "metadata": {},
   "outputs": [],
   "source": [
    "df['FaixaEtaria'] = ''\n",
    "for i, v in enumerate(df['Idade']):\n",
    "    if v < 18:\n",
    "        df['FaixaEtaria'][i] = 'Até 18 anos'\n",
    "    elif 18 <= v <= 25:\n",
    "        df['FaixaEtaria'][i] = '18 - 25 anos'\n",
    "    elif 25 < v <= 40:\n",
    "        df['FaixaEtaria'][i] = '26 - 40 anos'\n",
    "    elif 40 < v <= 60:\n",
    "        df['FaixaEtaria'][i] = '41 - 60 anos'\n",
    "    elif v > 60:\n",
    "        df['FaixaEtaria'][i] = 'Mais de 60 anos'"
   ]
  },
  {
   "cell_type": "code",
   "execution_count": 49,
   "metadata": {
    "collapsed": true
   },
   "outputs": [
    {
     "output_type": "execute_result",
     "data": {
      "text/plain": "                       Idade                                               \\\n                       count       mean       std   min   25%   50%   75%   \nSexo                                                                        \nFeminino               136.0  22.558824  7.419459   7.0  18.0  22.0  25.0   \nMasculino              633.0  22.685624  6.804740   7.0  20.0  22.0  25.0   \nOutro / Não Divulgado   11.0  27.363636  6.932139  12.0  24.0  27.0  33.0   \n\n                             Valor                                           \\\n                        max  count      mean       std   min     25%    50%   \nSexo                                                                          \nFeminino               40.0  136.0  2.815515  1.151027  1.03  1.8275  2.615   \nMasculino              45.0  633.0  2.950521  1.109967  1.03  2.0400  2.910   \nOutro / Não Divulgado  34.0   11.0  3.249091  0.957230  1.88  2.2850  3.730   \n\n                                    \n                         75%   max  \nSexo                                \nFeminino               3.750  4.95  \nMasculino              3.910  4.95  \nOutro / Não Divulgado  3.985  4.32  ",
      "text/html": "<div>\n<style scoped>\n    .dataframe tbody tr th:only-of-type {\n        vertical-align: middle;\n    }\n\n    .dataframe tbody tr th {\n        vertical-align: top;\n    }\n\n    .dataframe thead tr th {\n        text-align: left;\n    }\n\n    .dataframe thead tr:last-of-type th {\n        text-align: right;\n    }\n</style>\n<table border=\"1\" class=\"dataframe\">\n  <thead>\n    <tr>\n      <th></th>\n      <th colspan=\"8\" halign=\"left\">Idade</th>\n      <th colspan=\"8\" halign=\"left\">Valor</th>\n    </tr>\n    <tr>\n      <th></th>\n      <th>count</th>\n      <th>mean</th>\n      <th>std</th>\n      <th>min</th>\n      <th>25%</th>\n      <th>50%</th>\n      <th>75%</th>\n      <th>max</th>\n      <th>count</th>\n      <th>mean</th>\n      <th>std</th>\n      <th>min</th>\n      <th>25%</th>\n      <th>50%</th>\n      <th>75%</th>\n      <th>max</th>\n    </tr>\n    <tr>\n      <th>Sexo</th>\n      <th></th>\n      <th></th>\n      <th></th>\n      <th></th>\n      <th></th>\n      <th></th>\n      <th></th>\n      <th></th>\n      <th></th>\n      <th></th>\n      <th></th>\n      <th></th>\n      <th></th>\n      <th></th>\n      <th></th>\n      <th></th>\n    </tr>\n  </thead>\n  <tbody>\n    <tr>\n      <th>Feminino</th>\n      <td>136.0</td>\n      <td>22.558824</td>\n      <td>7.419459</td>\n      <td>7.0</td>\n      <td>18.0</td>\n      <td>22.0</td>\n      <td>25.0</td>\n      <td>40.0</td>\n      <td>136.0</td>\n      <td>2.815515</td>\n      <td>1.151027</td>\n      <td>1.03</td>\n      <td>1.8275</td>\n      <td>2.615</td>\n      <td>3.750</td>\n      <td>4.95</td>\n    </tr>\n    <tr>\n      <th>Masculino</th>\n      <td>633.0</td>\n      <td>22.685624</td>\n      <td>6.804740</td>\n      <td>7.0</td>\n      <td>20.0</td>\n      <td>22.0</td>\n      <td>25.0</td>\n      <td>45.0</td>\n      <td>633.0</td>\n      <td>2.950521</td>\n      <td>1.109967</td>\n      <td>1.03</td>\n      <td>2.0400</td>\n      <td>2.910</td>\n      <td>3.910</td>\n      <td>4.95</td>\n    </tr>\n    <tr>\n      <th>Outro / Não Divulgado</th>\n      <td>11.0</td>\n      <td>27.363636</td>\n      <td>6.932139</td>\n      <td>12.0</td>\n      <td>24.0</td>\n      <td>27.0</td>\n      <td>33.0</td>\n      <td>34.0</td>\n      <td>11.0</td>\n      <td>3.249091</td>\n      <td>0.957230</td>\n      <td>1.88</td>\n      <td>2.2850</td>\n      <td>3.730</td>\n      <td>3.985</td>\n      <td>4.32</td>\n    </tr>\n  </tbody>\n</table>\n</div>"
     },
     "metadata": {},
     "execution_count": 49
    }
   ],
   "source": [
    "df_sexGroup = df[['Idade', 'Valor', 'FaixaEtaria']].groupby(by = df['Sexo'])\n",
    "df_sexGroup.describe()"
   ]
  },
  {
   "cell_type": "code",
   "execution_count": 50,
   "metadata": {},
   "outputs": [
    {
     "output_type": "execute_result",
     "data": {
      "text/plain": "Sexo\nFeminino                  382.91\nMasculino                1867.68\nOutro / Não Divulgado      35.74\nName: Valor, dtype: float64"
     },
     "metadata": {},
     "execution_count": 50
    }
   ],
   "source": [
    "df_sexGroup['Valor'].sum()"
   ]
  },
  {
   "cell_type": "code",
   "execution_count": 51,
   "metadata": {},
   "outputs": [
    {
     "output_type": "execute_result",
     "data": {
      "text/plain": "Sexo                   FaixaEtaria \nFeminino               18 - 25 anos     73\n                       26 - 40 anos     33\n                       Até 18 anos      30\nMasculino              18 - 25 anos    374\n                       26 - 40 anos    137\n                       Até 18 anos     119\n                       41 - 60 anos      3\nOutro / Não Divulgado  26 - 40 anos      8\n                       18 - 25 anos      2\n                       Até 18 anos       1\nName: FaixaEtaria, dtype: int64"
     },
     "metadata": {},
     "execution_count": 51
    }
   ],
   "source": [
    "df_sexGroup['FaixaEtaria'].value_counts()"
   ]
  },
  {
   "cell_type": "code",
   "execution_count": 52,
   "metadata": {},
   "outputs": [],
   "source": [
    "df_FaixaEtariaGroup = df[['Idade', 'Valor', 'Sexo']].groupby(by=df['FaixaEtaria'])"
   ]
  },
  {
   "cell_type": "code",
   "execution_count": 53,
   "metadata": {},
   "outputs": [],
   "source": [
    "sexo = df['Sexo'].unique()\n",
    "df_FaixaMasc = df[['Idade', 'Valor', 'Sexo']].query(f\"Sexo == '{sexo[0]}'\").groupby(by=df['FaixaEtaria'])\n",
    "df_FaixaFem = df[['Idade', 'Valor', 'Sexo']].query(f\"Sexo == '{sexo[1]}'\").groupby(by=df['FaixaEtaria'])\n",
    "df_FaixaOutro = df[['Idade', 'Valor', 'Sexo']].query(f\"Sexo == '{sexo[2]}'\").groupby(by=df['FaixaEtaria'])"
   ]
  },
  {
   "cell_type": "code",
   "execution_count": 58,
   "metadata": {},
   "outputs": [
    {
     "output_type": "execute_result",
     "data": {
      "text/plain": "              Idade                                             Valor        \\\n              count   mean   std   min   25%   50%   75%   max  count  mean   \nFaixaEtaria                                                                   \n18 - 25 anos  374.0  21.99  2.06  18.0  20.0  22.0  24.0  25.0  374.0  2.96   \n26 - 40 anos  137.0  32.20  4.14  26.0  29.0  31.0  35.0  40.0  137.0  2.97   \n41 - 60 anos    3.0  43.33  1.53  42.0  42.5  43.0  44.0  45.0    3.0  2.88   \nAté 18 anos   119.0  13.39  3.20   7.0  11.0  15.0  15.0  17.0  119.0  2.89   \n\n                                                  \n               std   min   25%   50%   75%   max  \nFaixaEtaria                                       \n18 - 25 anos  1.11  1.03  2.17  2.94  3.91  4.95  \n26 - 40 anos  1.12  1.03  2.04  2.86  3.96  4.95  \n41 - 60 anos  0.86  2.11  2.42  2.72  3.26  3.81  \nAté 18 anos   1.12  1.03  1.94  2.88  3.82  4.95  ",
      "text/html": "<div>\n<style scoped>\n    .dataframe tbody tr th:only-of-type {\n        vertical-align: middle;\n    }\n\n    .dataframe tbody tr th {\n        vertical-align: top;\n    }\n\n    .dataframe thead tr th {\n        text-align: left;\n    }\n\n    .dataframe thead tr:last-of-type th {\n        text-align: right;\n    }\n</style>\n<table border=\"1\" class=\"dataframe\">\n  <thead>\n    <tr>\n      <th></th>\n      <th colspan=\"8\" halign=\"left\">Idade</th>\n      <th colspan=\"8\" halign=\"left\">Valor</th>\n    </tr>\n    <tr>\n      <th></th>\n      <th>count</th>\n      <th>mean</th>\n      <th>std</th>\n      <th>min</th>\n      <th>25%</th>\n      <th>50%</th>\n      <th>75%</th>\n      <th>max</th>\n      <th>count</th>\n      <th>mean</th>\n      <th>std</th>\n      <th>min</th>\n      <th>25%</th>\n      <th>50%</th>\n      <th>75%</th>\n      <th>max</th>\n    </tr>\n    <tr>\n      <th>FaixaEtaria</th>\n      <th></th>\n      <th></th>\n      <th></th>\n      <th></th>\n      <th></th>\n      <th></th>\n      <th></th>\n      <th></th>\n      <th></th>\n      <th></th>\n      <th></th>\n      <th></th>\n      <th></th>\n      <th></th>\n      <th></th>\n      <th></th>\n    </tr>\n  </thead>\n  <tbody>\n    <tr>\n      <th>18 - 25 anos</th>\n      <td>374.0</td>\n      <td>21.99</td>\n      <td>2.06</td>\n      <td>18.0</td>\n      <td>20.0</td>\n      <td>22.0</td>\n      <td>24.0</td>\n      <td>25.0</td>\n      <td>374.0</td>\n      <td>2.96</td>\n      <td>1.11</td>\n      <td>1.03</td>\n      <td>2.17</td>\n      <td>2.94</td>\n      <td>3.91</td>\n      <td>4.95</td>\n    </tr>\n    <tr>\n      <th>26 - 40 anos</th>\n      <td>137.0</td>\n      <td>32.20</td>\n      <td>4.14</td>\n      <td>26.0</td>\n      <td>29.0</td>\n      <td>31.0</td>\n      <td>35.0</td>\n      <td>40.0</td>\n      <td>137.0</td>\n      <td>2.97</td>\n      <td>1.12</td>\n      <td>1.03</td>\n      <td>2.04</td>\n      <td>2.86</td>\n      <td>3.96</td>\n      <td>4.95</td>\n    </tr>\n    <tr>\n      <th>41 - 60 anos</th>\n      <td>3.0</td>\n      <td>43.33</td>\n      <td>1.53</td>\n      <td>42.0</td>\n      <td>42.5</td>\n      <td>43.0</td>\n      <td>44.0</td>\n      <td>45.0</td>\n      <td>3.0</td>\n      <td>2.88</td>\n      <td>0.86</td>\n      <td>2.11</td>\n      <td>2.42</td>\n      <td>2.72</td>\n      <td>3.26</td>\n      <td>3.81</td>\n    </tr>\n    <tr>\n      <th>Até 18 anos</th>\n      <td>119.0</td>\n      <td>13.39</td>\n      <td>3.20</td>\n      <td>7.0</td>\n      <td>11.0</td>\n      <td>15.0</td>\n      <td>15.0</td>\n      <td>17.0</td>\n      <td>119.0</td>\n      <td>2.89</td>\n      <td>1.12</td>\n      <td>1.03</td>\n      <td>1.94</td>\n      <td>2.88</td>\n      <td>3.82</td>\n      <td>4.95</td>\n    </tr>\n  </tbody>\n</table>\n</div>"
     },
     "metadata": {},
     "execution_count": 58
    }
   ],
   "source": [
    "df_FaixaMasc.describe().round(2)"
   ]
  },
  {
   "cell_type": "code",
   "execution_count": 57,
   "metadata": {},
   "outputs": [
    {
     "output_type": "execute_result",
     "data": {
      "text/plain": "             Idade                                             Valor        \\\n             count   mean   std   min    25%   50%   75%   max count  mean   \nFaixaEtaria                                                                  \n18 - 25 anos  73.0  22.03  2.29  18.0  20.00  22.0  24.0  25.0  73.0  2.80   \n26 - 40 anos  33.0  32.33  5.06  26.0  27.00  32.0  37.0  40.0  33.0  2.83   \nAté 18 anos   30.0  13.10  3.61   7.0  10.25  14.0  16.0  17.0  30.0  2.83   \n\n                                                  \n               std   min   25%   50%   75%   max  \nFaixaEtaria                                       \n18 - 25 anos  1.24  1.03  1.67  2.52  3.91  4.95  \n26 - 40 anos  1.04  1.03  2.07  2.88  3.57  4.95  \nAté 18 anos   1.07  1.27  1.90  2.54  3.68  4.89  ",
      "text/html": "<div>\n<style scoped>\n    .dataframe tbody tr th:only-of-type {\n        vertical-align: middle;\n    }\n\n    .dataframe tbody tr th {\n        vertical-align: top;\n    }\n\n    .dataframe thead tr th {\n        text-align: left;\n    }\n\n    .dataframe thead tr:last-of-type th {\n        text-align: right;\n    }\n</style>\n<table border=\"1\" class=\"dataframe\">\n  <thead>\n    <tr>\n      <th></th>\n      <th colspan=\"8\" halign=\"left\">Idade</th>\n      <th colspan=\"8\" halign=\"left\">Valor</th>\n    </tr>\n    <tr>\n      <th></th>\n      <th>count</th>\n      <th>mean</th>\n      <th>std</th>\n      <th>min</th>\n      <th>25%</th>\n      <th>50%</th>\n      <th>75%</th>\n      <th>max</th>\n      <th>count</th>\n      <th>mean</th>\n      <th>std</th>\n      <th>min</th>\n      <th>25%</th>\n      <th>50%</th>\n      <th>75%</th>\n      <th>max</th>\n    </tr>\n    <tr>\n      <th>FaixaEtaria</th>\n      <th></th>\n      <th></th>\n      <th></th>\n      <th></th>\n      <th></th>\n      <th></th>\n      <th></th>\n      <th></th>\n      <th></th>\n      <th></th>\n      <th></th>\n      <th></th>\n      <th></th>\n      <th></th>\n      <th></th>\n      <th></th>\n    </tr>\n  </thead>\n  <tbody>\n    <tr>\n      <th>18 - 25 anos</th>\n      <td>73.0</td>\n      <td>22.03</td>\n      <td>2.29</td>\n      <td>18.0</td>\n      <td>20.00</td>\n      <td>22.0</td>\n      <td>24.0</td>\n      <td>25.0</td>\n      <td>73.0</td>\n      <td>2.80</td>\n      <td>1.24</td>\n      <td>1.03</td>\n      <td>1.67</td>\n      <td>2.52</td>\n      <td>3.91</td>\n      <td>4.95</td>\n    </tr>\n    <tr>\n      <th>26 - 40 anos</th>\n      <td>33.0</td>\n      <td>32.33</td>\n      <td>5.06</td>\n      <td>26.0</td>\n      <td>27.00</td>\n      <td>32.0</td>\n      <td>37.0</td>\n      <td>40.0</td>\n      <td>33.0</td>\n      <td>2.83</td>\n      <td>1.04</td>\n      <td>1.03</td>\n      <td>2.07</td>\n      <td>2.88</td>\n      <td>3.57</td>\n      <td>4.95</td>\n    </tr>\n    <tr>\n      <th>Até 18 anos</th>\n      <td>30.0</td>\n      <td>13.10</td>\n      <td>3.61</td>\n      <td>7.0</td>\n      <td>10.25</td>\n      <td>14.0</td>\n      <td>16.0</td>\n      <td>17.0</td>\n      <td>30.0</td>\n      <td>2.83</td>\n      <td>1.07</td>\n      <td>1.27</td>\n      <td>1.90</td>\n      <td>2.54</td>\n      <td>3.68</td>\n      <td>4.89</td>\n    </tr>\n  </tbody>\n</table>\n</div>"
     },
     "metadata": {},
     "execution_count": 57
    }
   ],
   "source": [
    "df_FaixaFem.describe().round(2)"
   ]
  },
  {
   "cell_type": "code",
   "execution_count": 56,
   "metadata": {},
   "outputs": [
    {
     "output_type": "execute_result",
     "data": {
      "text/plain": "             Idade                                              Valor        \\\n             count   mean   std   min    25%   50%    75%   max count  mean   \nFaixaEtaria                                                                   \n18 - 25 anos   2.0  21.50  0.71  21.0  21.25  21.5  21.75  22.0   2.0  3.30   \n26 - 40 anos   8.0  30.75  3.45  26.0  27.00  32.5  33.25  34.0   8.0  3.14   \nAté 18 anos    1.0  12.00   NaN  12.0  12.00  12.0  12.00  12.0   1.0  4.00   \n\n                                                 \n               std   min   25%  50%   75%   max  \nFaixaEtaria                                      \n18 - 25 anos  1.34  2.36  2.83  3.3  3.78  4.25  \n26 - 40 anos  0.98  1.88  2.15  3.5  3.84  4.32  \nAté 18 anos    NaN  4.00  4.00  4.0  4.00  4.00  ",
      "text/html": "<div>\n<style scoped>\n    .dataframe tbody tr th:only-of-type {\n        vertical-align: middle;\n    }\n\n    .dataframe tbody tr th {\n        vertical-align: top;\n    }\n\n    .dataframe thead tr th {\n        text-align: left;\n    }\n\n    .dataframe thead tr:last-of-type th {\n        text-align: right;\n    }\n</style>\n<table border=\"1\" class=\"dataframe\">\n  <thead>\n    <tr>\n      <th></th>\n      <th colspan=\"8\" halign=\"left\">Idade</th>\n      <th colspan=\"8\" halign=\"left\">Valor</th>\n    </tr>\n    <tr>\n      <th></th>\n      <th>count</th>\n      <th>mean</th>\n      <th>std</th>\n      <th>min</th>\n      <th>25%</th>\n      <th>50%</th>\n      <th>75%</th>\n      <th>max</th>\n      <th>count</th>\n      <th>mean</th>\n      <th>std</th>\n      <th>min</th>\n      <th>25%</th>\n      <th>50%</th>\n      <th>75%</th>\n      <th>max</th>\n    </tr>\n    <tr>\n      <th>FaixaEtaria</th>\n      <th></th>\n      <th></th>\n      <th></th>\n      <th></th>\n      <th></th>\n      <th></th>\n      <th></th>\n      <th></th>\n      <th></th>\n      <th></th>\n      <th></th>\n      <th></th>\n      <th></th>\n      <th></th>\n      <th></th>\n      <th></th>\n    </tr>\n  </thead>\n  <tbody>\n    <tr>\n      <th>18 - 25 anos</th>\n      <td>2.0</td>\n      <td>21.50</td>\n      <td>0.71</td>\n      <td>21.0</td>\n      <td>21.25</td>\n      <td>21.5</td>\n      <td>21.75</td>\n      <td>22.0</td>\n      <td>2.0</td>\n      <td>3.30</td>\n      <td>1.34</td>\n      <td>2.36</td>\n      <td>2.83</td>\n      <td>3.3</td>\n      <td>3.78</td>\n      <td>4.25</td>\n    </tr>\n    <tr>\n      <th>26 - 40 anos</th>\n      <td>8.0</td>\n      <td>30.75</td>\n      <td>3.45</td>\n      <td>26.0</td>\n      <td>27.00</td>\n      <td>32.5</td>\n      <td>33.25</td>\n      <td>34.0</td>\n      <td>8.0</td>\n      <td>3.14</td>\n      <td>0.98</td>\n      <td>1.88</td>\n      <td>2.15</td>\n      <td>3.5</td>\n      <td>3.84</td>\n      <td>4.32</td>\n    </tr>\n    <tr>\n      <th>Até 18 anos</th>\n      <td>1.0</td>\n      <td>12.00</td>\n      <td>NaN</td>\n      <td>12.0</td>\n      <td>12.00</td>\n      <td>12.0</td>\n      <td>12.00</td>\n      <td>12.0</td>\n      <td>1.0</td>\n      <td>4.00</td>\n      <td>NaN</td>\n      <td>4.00</td>\n      <td>4.00</td>\n      <td>4.0</td>\n      <td>4.00</td>\n      <td>4.00</td>\n    </tr>\n  </tbody>\n</table>\n</div>"
     },
     "metadata": {},
     "execution_count": 56
    }
   ],
   "source": [
    "df_FaixaOutro.describe().round(2)"
   ]
  },
  {
   "cell_type": "markdown",
   "metadata": {},
   "source": [
    "### Total de compras:\n",
    "- Feminno: 136\n",
    "- Masculino: 633\n",
    "- Outro / Não Divulgado: 11\n",
    "\n",
    "### Preço Médio de compras\n",
    "- Feminino: 2.81\n",
    "- Masculino: 2.95\n",
    "- Outro / Não Divulgado: 3.25\n",
    "\n",
    "### Valor Total\n",
    "- Feminino: 382.91\n",
    "- Masculino: 1867.68\n",
    "- Outro / Não Divulgado: 35.74\n",
    "\n",
    "### Perfil de comprar por faixa etária (Média do valor)\n",
    "Feminino\n",
    "- Até 18 anos: 2.83\n",
    "- 18 - 25 anos: 2.80\n",
    "- 26 - 40 anos: 2.83\n",
    "- 41 - 60 anos: Nenhum\n",
    "- Mais de 60 anos: Nenhum\n",
    "\n",
    "Masculino\n",
    "- Até 18 anos: 2.89\n",
    "- 18 - 25 anos: 2.96\n",
    "- 26 - 40 anos: 2.97\n",
    "- 41 - 60 anos: 2.88\n",
    "- Mais de 60 anos: Nenhum\n",
    "\n",
    "Outro / Não Divulgado\n",
    "- Até 18 anos: 4.00\n",
    "- 18 - 25 anos: 3.30\n",
    "- 26 - 40 anos: 3.15\n",
    "- 41 - 60 anos: Nenhum\n",
    "- Mais de 60 anos: Nenhum"
   ]
  },
  {
   "cell_type": "markdown",
   "metadata": {},
   "source": [
    "## Consumidores Mais Populares (Top 5)\n",
    "- Login\n",
    "- Número de compras\n",
    "- Preço médio de compra\n",
    "- Valor Total de Compra\n",
    "- Itens mais populares"
   ]
  },
  {
   "cell_type": "markdown",
   "metadata": {},
   "source": [
    "### Top 5 - Login com número de compras"
   ]
  },
  {
   "cell_type": "code",
   "execution_count": 66,
   "metadata": {
    "collapsed": true
   },
   "outputs": [
    {
     "output_type": "execute_result",
     "data": {
      "text/plain": "Undirrala66    5\nQarwen67       4\nMindimnya67    4\nHailaphos89    4\nSondastan54    4\nName: Login, dtype: int64"
     },
     "metadata": {},
     "execution_count": 66
    }
   ],
   "source": [
    "df['Login'].value_counts().sort_values(ascending=False).head(5)"
   ]
  },
  {
   "cell_type": "code",
   "execution_count": 108,
   "metadata": {},
   "outputs": [
    {
     "output_type": "stream",
     "name": "stdout",
     "text": "Valor médio de compra dos 5 principais consumidores (com base no número de compras)\n"
    },
    {
     "output_type": "execute_result",
     "data": {
      "text/plain": "              Valor\nLogin              \nHailaphos89  1.4675\nMindimnya67  3.1850\nQarwen67     2.4925\nSondastan54  2.5600\nUndirrala66  3.4120",
      "text/html": "<div>\n<style scoped>\n    .dataframe tbody tr th:only-of-type {\n        vertical-align: middle;\n    }\n\n    .dataframe tbody tr th {\n        vertical-align: top;\n    }\n\n    .dataframe thead th {\n        text-align: right;\n    }\n</style>\n<table border=\"1\" class=\"dataframe\">\n  <thead>\n    <tr style=\"text-align: right;\">\n      <th></th>\n      <th>Valor</th>\n    </tr>\n    <tr>\n      <th>Login</th>\n      <th></th>\n    </tr>\n  </thead>\n  <tbody>\n    <tr>\n      <th>Hailaphos89</th>\n      <td>1.4675</td>\n    </tr>\n    <tr>\n      <th>Mindimnya67</th>\n      <td>3.1850</td>\n    </tr>\n    <tr>\n      <th>Qarwen67</th>\n      <td>2.4925</td>\n    </tr>\n    <tr>\n      <th>Sondastan54</th>\n      <td>2.5600</td>\n    </tr>\n    <tr>\n      <th>Undirrala66</th>\n      <td>3.4120</td>\n    </tr>\n  </tbody>\n</table>\n</div>"
     },
     "metadata": {},
     "execution_count": 108
    }
   ],
   "source": [
    "top5Consumers = []\n",
    "for k, v in df['Login'].value_counts().sort_values(ascending=False).head().items():\n",
    "    top5Consumers.append(k)\n",
    "\n",
    "print('Valor médio de compra dos 5 principais consumidores (com base no número de compras)')\n",
    "df[['Login','Valor']].query(f'Login in {top5Consumers}').sort_values(by='Login').groupby(by = 'Login').mean()"
   ]
  },
  {
   "cell_type": "code",
   "execution_count": 109,
   "metadata": {},
   "outputs": [
    {
     "output_type": "stream",
     "name": "stdout",
     "text": "Valor total de compra dos 5 principais consumidores (com base no número de compras)\n"
    },
    {
     "output_type": "execute_result",
     "data": {
      "text/plain": "             Valor\nLogin             \nHailaphos89   5.87\nMindimnya67  12.74\nQarwen67      9.97\nSondastan54  10.24\nUndirrala66  17.06",
      "text/html": "<div>\n<style scoped>\n    .dataframe tbody tr th:only-of-type {\n        vertical-align: middle;\n    }\n\n    .dataframe tbody tr th {\n        vertical-align: top;\n    }\n\n    .dataframe thead th {\n        text-align: right;\n    }\n</style>\n<table border=\"1\" class=\"dataframe\">\n  <thead>\n    <tr style=\"text-align: right;\">\n      <th></th>\n      <th>Valor</th>\n    </tr>\n    <tr>\n      <th>Login</th>\n      <th></th>\n    </tr>\n  </thead>\n  <tbody>\n    <tr>\n      <th>Hailaphos89</th>\n      <td>5.87</td>\n    </tr>\n    <tr>\n      <th>Mindimnya67</th>\n      <td>12.74</td>\n    </tr>\n    <tr>\n      <th>Qarwen67</th>\n      <td>9.97</td>\n    </tr>\n    <tr>\n      <th>Sondastan54</th>\n      <td>10.24</td>\n    </tr>\n    <tr>\n      <th>Undirrala66</th>\n      <td>17.06</td>\n    </tr>\n  </tbody>\n</table>\n</div>"
     },
     "metadata": {},
     "execution_count": 109
    }
   ],
   "source": [
    "print('Valor total de compra dos 5 principais consumidores (com base no número de compras)')\n",
    "\n",
    "df[['Login', 'Valor']].query(f'Login in {top5Consumers}').sort_values(by='Login').groupby(by='Login').sum()"
   ]
  },
  {
   "cell_type": "code",
   "execution_count": 114,
   "metadata": {},
   "outputs": [
    {
     "output_type": "stream",
     "name": "stdout",
     "text": "Os 5 produtos mais comprados\n"
    },
    {
     "output_type": "execute_result",
     "data": {
      "text/plain": "Final Critic                            14\nArcane Gem                              11\nBetrayal, Whisper of Grieving Widows    11\nStormcaller                             10\nRetribution Axe                          9\nName: Nome do Item, dtype: int64"
     },
     "metadata": {},
     "execution_count": 114
    }
   ],
   "source": [
    "print('Os 5 produtos mais comprados')\n",
    "df['Nome do Item'].value_counts().sort_values(ascending=False).head()"
   ]
  },
  {
   "cell_type": "markdown",
   "metadata": {},
   "source": [
    "## Itens Mais Populares\n",
    "- ID do item\n",
    "- Nome do item\n",
    "- Número de compras\n",
    "- Preço do item\n",
    "- Valor Total de Compra\n",
    "- Itens mais lucrativos"
   ]
  },
  {
   "cell_type": "code",
   "execution_count": 127,
   "metadata": {},
   "outputs": [],
   "source": [
    "df = df[['Login', 'Idade', 'Sexo', 'Item ID', 'Item', 'Valor', 'FaixaEtaria']]\n"
   ]
  },
  {
   "cell_type": "code",
   "execution_count": 139,
   "metadata": {
    "collapsed": true
   },
   "outputs": [
    {
     "output_type": "execute_result",
     "data": {
      "text/plain": "         Item                                                  \n        count unique                                   top freq\nItem ID                                                        \n30          5      1                           Stormcaller    5\n34          9      1                       Retribution Axe    9\n39         11      1  Betrayal, Whisper of Grieving Widows   11\n84         11      1                            Arcane Gem   11\n92          8      1                          Final Critic    8\n101         6      1                          Final Critic    6\n180         5      1                           Stormcaller    5",
      "text/html": "<div>\n<style scoped>\n    .dataframe tbody tr th:only-of-type {\n        vertical-align: middle;\n    }\n\n    .dataframe tbody tr th {\n        vertical-align: top;\n    }\n\n    .dataframe thead tr th {\n        text-align: left;\n    }\n\n    .dataframe thead tr:last-of-type th {\n        text-align: right;\n    }\n</style>\n<table border=\"1\" class=\"dataframe\">\n  <thead>\n    <tr>\n      <th></th>\n      <th colspan=\"4\" halign=\"left\">Item</th>\n    </tr>\n    <tr>\n      <th></th>\n      <th>count</th>\n      <th>unique</th>\n      <th>top</th>\n      <th>freq</th>\n    </tr>\n    <tr>\n      <th>Item ID</th>\n      <th></th>\n      <th></th>\n      <th></th>\n      <th></th>\n    </tr>\n  </thead>\n  <tbody>\n    <tr>\n      <th>30</th>\n      <td>5</td>\n      <td>1</td>\n      <td>Stormcaller</td>\n      <td>5</td>\n    </tr>\n    <tr>\n      <th>34</th>\n      <td>9</td>\n      <td>1</td>\n      <td>Retribution Axe</td>\n      <td>9</td>\n    </tr>\n    <tr>\n      <th>39</th>\n      <td>11</td>\n      <td>1</td>\n      <td>Betrayal, Whisper of Grieving Widows</td>\n      <td>11</td>\n    </tr>\n    <tr>\n      <th>84</th>\n      <td>11</td>\n      <td>1</td>\n      <td>Arcane Gem</td>\n      <td>11</td>\n    </tr>\n    <tr>\n      <th>92</th>\n      <td>8</td>\n      <td>1</td>\n      <td>Final Critic</td>\n      <td>8</td>\n    </tr>\n    <tr>\n      <th>101</th>\n      <td>6</td>\n      <td>1</td>\n      <td>Final Critic</td>\n      <td>6</td>\n    </tr>\n    <tr>\n      <th>180</th>\n      <td>5</td>\n      <td>1</td>\n      <td>Stormcaller</td>\n      <td>5</td>\n    </tr>\n  </tbody>\n</table>\n</div>"
     },
     "metadata": {},
     "execution_count": 139
    }
   ],
   "source": [
    "itensMaisPopulares = []\n",
    "for k, v in df['Item'].value_counts().sort_values(ascending=False).head().items():\n",
    "    itensMaisPopulares.append(k)\n",
    "\n",
    "dfTopItens = df.query(f'Item in {itensMaisPopulares}').sort_values(by = 'Item')\n",
    "dfTopItens[['Item ID', 'Item']].groupby(by = 'Item ID').describe()"
   ]
  },
  {
   "cell_type": "markdown",
   "metadata": {},
   "source": [
    "- O DataFrame acima mostra os protudos mais comprados, com ItemID e a quantidade de vezes em que foram comprados.\n",
    "- Inclusive pode-se perceber um erro em que um produto (Final Critic) possui dois IDs diferentes."
   ]
  },
  {
   "cell_type": "code",
   "execution_count": 146,
   "metadata": {},
   "outputs": [
    {
     "output_type": "execute_result",
     "data": {
      "text/plain": "       Item                                                  \n      count unique                                   top freq\nValor                                                        \n1.36      8      1                          Final Critic    8\n2.23     11      1                            Arcane Gem   11\n2.35     11      1  Betrayal, Whisper of Grieving Widows   11\n2.78      5      1                           Stormcaller    5\n4.14      9      1                       Retribution Axe    9\n4.15      5      1                           Stormcaller    5\n4.62      6      1                          Final Critic    6",
      "text/html": "<div>\n<style scoped>\n    .dataframe tbody tr th:only-of-type {\n        vertical-align: middle;\n    }\n\n    .dataframe tbody tr th {\n        vertical-align: top;\n    }\n\n    .dataframe thead tr th {\n        text-align: left;\n    }\n\n    .dataframe thead tr:last-of-type th {\n        text-align: right;\n    }\n</style>\n<table border=\"1\" class=\"dataframe\">\n  <thead>\n    <tr>\n      <th></th>\n      <th colspan=\"4\" halign=\"left\">Item</th>\n    </tr>\n    <tr>\n      <th></th>\n      <th>count</th>\n      <th>unique</th>\n      <th>top</th>\n      <th>freq</th>\n    </tr>\n    <tr>\n      <th>Valor</th>\n      <th></th>\n      <th></th>\n      <th></th>\n      <th></th>\n    </tr>\n  </thead>\n  <tbody>\n    <tr>\n      <th>1.36</th>\n      <td>8</td>\n      <td>1</td>\n      <td>Final Critic</td>\n      <td>8</td>\n    </tr>\n    <tr>\n      <th>2.23</th>\n      <td>11</td>\n      <td>1</td>\n      <td>Arcane Gem</td>\n      <td>11</td>\n    </tr>\n    <tr>\n      <th>2.35</th>\n      <td>11</td>\n      <td>1</td>\n      <td>Betrayal, Whisper of Grieving Widows</td>\n      <td>11</td>\n    </tr>\n    <tr>\n      <th>2.78</th>\n      <td>5</td>\n      <td>1</td>\n      <td>Stormcaller</td>\n      <td>5</td>\n    </tr>\n    <tr>\n      <th>4.14</th>\n      <td>9</td>\n      <td>1</td>\n      <td>Retribution Axe</td>\n      <td>9</td>\n    </tr>\n    <tr>\n      <th>4.15</th>\n      <td>5</td>\n      <td>1</td>\n      <td>Stormcaller</td>\n      <td>5</td>\n    </tr>\n    <tr>\n      <th>4.62</th>\n      <td>6</td>\n      <td>1</td>\n      <td>Final Critic</td>\n      <td>6</td>\n    </tr>\n  </tbody>\n</table>\n</div>"
     },
     "metadata": {},
     "execution_count": 146
    }
   ],
   "source": [
    "dfTopItens[['Item', 'Valor']].groupby(by='Valor').describe()"
   ]
  },
  {
   "cell_type": "markdown",
   "metadata": {},
   "source": [
    "- O DataFrame acima mostra os principais produtos com os valores.\n",
    "- Pode-se observar que também existem diferenças nos valores, os produtos StormCaller e Final Critic possuem dois valores diferentes"
   ]
  },
  {
   "cell_type": "code",
   "execution_count": 148,
   "metadata": {},
   "outputs": [
    {
     "output_type": "execute_result",
     "data": {
      "text/plain": "                                      Valor\nItem                                       \nArcane Gem                            24.53\nBetrayal, Whisper of Grieving Widows  25.85\nFinal Critic                          38.60\nRetribution Axe                       37.26\nStormcaller                           34.65",
      "text/html": "<div>\n<style scoped>\n    .dataframe tbody tr th:only-of-type {\n        vertical-align: middle;\n    }\n\n    .dataframe tbody tr th {\n        vertical-align: top;\n    }\n\n    .dataframe thead th {\n        text-align: right;\n    }\n</style>\n<table border=\"1\" class=\"dataframe\">\n  <thead>\n    <tr style=\"text-align: right;\">\n      <th></th>\n      <th>Valor</th>\n    </tr>\n    <tr>\n      <th>Item</th>\n      <th></th>\n    </tr>\n  </thead>\n  <tbody>\n    <tr>\n      <th>Arcane Gem</th>\n      <td>24.53</td>\n    </tr>\n    <tr>\n      <th>Betrayal, Whisper of Grieving Widows</th>\n      <td>25.85</td>\n    </tr>\n    <tr>\n      <th>Final Critic</th>\n      <td>38.60</td>\n    </tr>\n    <tr>\n      <th>Retribution Axe</th>\n      <td>37.26</td>\n    </tr>\n    <tr>\n      <th>Stormcaller</th>\n      <td>34.65</td>\n    </tr>\n  </tbody>\n</table>\n</div>"
     },
     "metadata": {},
     "execution_count": 148
    }
   ],
   "source": [
    "dfTopItens[['Item', 'Valor']].groupby(by='Item').sum()"
   ]
  },
  {
   "cell_type": "markdown",
   "metadata": {},
   "source": [
    "- Com o DataFrame acima pode-se observar o valor total vendido dos 5 produtos mais vendidos"
   ]
  },
  {
   "cell_type": "code",
   "execution_count": 152,
   "metadata": {},
   "outputs": [
    {
     "output_type": "execute_result",
     "data": {
      "text/plain": "                            Valor\nItem                             \nFinal Critic                38.60\nRetribution Axe             37.26\nStormcaller                 34.65\nSpectral Diamond Doomblade  29.75\nOrenmir                     29.70",
      "text/html": "<div>\n<style scoped>\n    .dataframe tbody tr th:only-of-type {\n        vertical-align: middle;\n    }\n\n    .dataframe tbody tr th {\n        vertical-align: top;\n    }\n\n    .dataframe thead th {\n        text-align: right;\n    }\n</style>\n<table border=\"1\" class=\"dataframe\">\n  <thead>\n    <tr style=\"text-align: right;\">\n      <th></th>\n      <th>Valor</th>\n    </tr>\n    <tr>\n      <th>Item</th>\n      <th></th>\n    </tr>\n  </thead>\n  <tbody>\n    <tr>\n      <th>Final Critic</th>\n      <td>38.60</td>\n    </tr>\n    <tr>\n      <th>Retribution Axe</th>\n      <td>37.26</td>\n    </tr>\n    <tr>\n      <th>Stormcaller</th>\n      <td>34.65</td>\n    </tr>\n    <tr>\n      <th>Spectral Diamond Doomblade</th>\n      <td>29.75</td>\n    </tr>\n    <tr>\n      <th>Orenmir</th>\n      <td>29.70</td>\n    </tr>\n  </tbody>\n</table>\n</div>"
     },
     "metadata": {},
     "execution_count": 152
    }
   ],
   "source": [
    "df[['Item', 'Valor']].groupby(by='Item').sum().sort_values(by = 'Valor', ascending=False).head()"
   ]
  },
  {
   "cell_type": "markdown",
   "metadata": {},
   "source": [
    "## Itens Mais Lucrativos\n",
    "- ID do item\n",
    "- Nome do item\n",
    "- Número de compras\n",
    "- Preço do item\n",
    "- Valor Total de Compra"
   ]
  },
  {
   "cell_type": "code",
   "execution_count": 173,
   "metadata": {
    "collapsed": true
   },
   "outputs": [
    {
     "output_type": "execute_result",
     "data": {
      "text/plain": "         Item                                        \n        count unique                         top freq\nItem ID                                              \n30          5      1                 Stormcaller    5\n32          6      1                     Orenmir    6\n34          9      1             Retribution Axe    9\n92          8      1                Final Critic    8\n101         6      1                Final Critic    6\n115         7      1  Spectral Diamond Doomblade    7\n180         5      1                 Stormcaller    5",
      "text/html": "<div>\n<style scoped>\n    .dataframe tbody tr th:only-of-type {\n        vertical-align: middle;\n    }\n\n    .dataframe tbody tr th {\n        vertical-align: top;\n    }\n\n    .dataframe thead tr th {\n        text-align: left;\n    }\n\n    .dataframe thead tr:last-of-type th {\n        text-align: right;\n    }\n</style>\n<table border=\"1\" class=\"dataframe\">\n  <thead>\n    <tr>\n      <th></th>\n      <th colspan=\"4\" halign=\"left\">Item</th>\n    </tr>\n    <tr>\n      <th></th>\n      <th>count</th>\n      <th>unique</th>\n      <th>top</th>\n      <th>freq</th>\n    </tr>\n    <tr>\n      <th>Item ID</th>\n      <th></th>\n      <th></th>\n      <th></th>\n      <th></th>\n    </tr>\n  </thead>\n  <tbody>\n    <tr>\n      <th>30</th>\n      <td>5</td>\n      <td>1</td>\n      <td>Stormcaller</td>\n      <td>5</td>\n    </tr>\n    <tr>\n      <th>32</th>\n      <td>6</td>\n      <td>1</td>\n      <td>Orenmir</td>\n      <td>6</td>\n    </tr>\n    <tr>\n      <th>34</th>\n      <td>9</td>\n      <td>1</td>\n      <td>Retribution Axe</td>\n      <td>9</td>\n    </tr>\n    <tr>\n      <th>92</th>\n      <td>8</td>\n      <td>1</td>\n      <td>Final Critic</td>\n      <td>8</td>\n    </tr>\n    <tr>\n      <th>101</th>\n      <td>6</td>\n      <td>1</td>\n      <td>Final Critic</td>\n      <td>6</td>\n    </tr>\n    <tr>\n      <th>115</th>\n      <td>7</td>\n      <td>1</td>\n      <td>Spectral Diamond Doomblade</td>\n      <td>7</td>\n    </tr>\n    <tr>\n      <th>180</th>\n      <td>5</td>\n      <td>1</td>\n      <td>Stormcaller</td>\n      <td>5</td>\n    </tr>\n  </tbody>\n</table>\n</div>"
     },
     "metadata": {},
     "execution_count": 173
    }
   ],
   "source": [
    "prodMaisLucrativos = []\n",
    "for k,v in df[['Item', 'Valor']].groupby(by='Item').sum().sort_values(by = 'Valor', ascending=False).head().items():\n",
    "    for prod in v.items():\n",
    "        prodMaisLucrativos.append(prod[0])\n",
    "\n",
    "df_prodMaisLucrativos = df.query(f'Item in {prodMaisLucrativos}')\n",
    "df_prodMaisLucrativos[['Item ID', 'Item']].groupby(by='Item ID').describe()"
   ]
  },
  {
   "cell_type": "markdown",
   "metadata": {},
   "source": [
    "- O DataFrame acima mostra os produtos mais lucrativos, com o número de vendas e o Item ID.\n",
    "- Observa-se mais uma vez os dois IDs do produto Final Critic"
   ]
  },
  {
   "cell_type": "code",
   "execution_count": 180,
   "metadata": {},
   "outputs": [
    {
     "output_type": "execute_result",
     "data": {
      "text/plain": "       Item                                        \n      count unique                         top freq\nValor                                              \n1.36      8      1                Final Critic    8\n2.78      5      1                 Stormcaller    5\n4.14      9      1             Retribution Axe    9\n4.15      5      1                 Stormcaller    5\n4.25      7      1  Spectral Diamond Doomblade    7\n4.62      6      1                Final Critic    6\n4.95      6      1                     Orenmir    6",
      "text/html": "<div>\n<style scoped>\n    .dataframe tbody tr th:only-of-type {\n        vertical-align: middle;\n    }\n\n    .dataframe tbody tr th {\n        vertical-align: top;\n    }\n\n    .dataframe thead tr th {\n        text-align: left;\n    }\n\n    .dataframe thead tr:last-of-type th {\n        text-align: right;\n    }\n</style>\n<table border=\"1\" class=\"dataframe\">\n  <thead>\n    <tr>\n      <th></th>\n      <th colspan=\"4\" halign=\"left\">Item</th>\n    </tr>\n    <tr>\n      <th></th>\n      <th>count</th>\n      <th>unique</th>\n      <th>top</th>\n      <th>freq</th>\n    </tr>\n    <tr>\n      <th>Valor</th>\n      <th></th>\n      <th></th>\n      <th></th>\n      <th></th>\n    </tr>\n  </thead>\n  <tbody>\n    <tr>\n      <th>1.36</th>\n      <td>8</td>\n      <td>1</td>\n      <td>Final Critic</td>\n      <td>8</td>\n    </tr>\n    <tr>\n      <th>2.78</th>\n      <td>5</td>\n      <td>1</td>\n      <td>Stormcaller</td>\n      <td>5</td>\n    </tr>\n    <tr>\n      <th>4.14</th>\n      <td>9</td>\n      <td>1</td>\n      <td>Retribution Axe</td>\n      <td>9</td>\n    </tr>\n    <tr>\n      <th>4.15</th>\n      <td>5</td>\n      <td>1</td>\n      <td>Stormcaller</td>\n      <td>5</td>\n    </tr>\n    <tr>\n      <th>4.25</th>\n      <td>7</td>\n      <td>1</td>\n      <td>Spectral Diamond Doomblade</td>\n      <td>7</td>\n    </tr>\n    <tr>\n      <th>4.62</th>\n      <td>6</td>\n      <td>1</td>\n      <td>Final Critic</td>\n      <td>6</td>\n    </tr>\n    <tr>\n      <th>4.95</th>\n      <td>6</td>\n      <td>1</td>\n      <td>Orenmir</td>\n      <td>6</td>\n    </tr>\n  </tbody>\n</table>\n</div>"
     },
     "metadata": {},
     "execution_count": 180
    }
   ],
   "source": [
    "df_prodMaisLucrativos[['Item', 'Valor']].groupby(by='Valor').describe()"
   ]
  },
  {
   "cell_type": "markdown",
   "metadata": {},
   "source": [
    "- O DataFrame acima mostra o valor dos produtos mais lucrativos\n",
    "- Observa-se mais uma vez os dois valores dos produtos Final Critic e Stormcaller"
   ]
  },
  {
   "cell_type": "code",
   "execution_count": 183,
   "metadata": {},
   "outputs": [
    {
     "output_type": "execute_result",
     "data": {
      "text/plain": "                            Valor\nItem                             \nFinal Critic                38.60\nRetribution Axe             37.26\nStormcaller                 34.65\nSpectral Diamond Doomblade  29.75\nOrenmir                     29.70",
      "text/html": "<div>\n<style scoped>\n    .dataframe tbody tr th:only-of-type {\n        vertical-align: middle;\n    }\n\n    .dataframe tbody tr th {\n        vertical-align: top;\n    }\n\n    .dataframe thead th {\n        text-align: right;\n    }\n</style>\n<table border=\"1\" class=\"dataframe\">\n  <thead>\n    <tr style=\"text-align: right;\">\n      <th></th>\n      <th>Valor</th>\n    </tr>\n    <tr>\n      <th>Item</th>\n      <th></th>\n    </tr>\n  </thead>\n  <tbody>\n    <tr>\n      <th>Final Critic</th>\n      <td>38.60</td>\n    </tr>\n    <tr>\n      <th>Retribution Axe</th>\n      <td>37.26</td>\n    </tr>\n    <tr>\n      <th>Stormcaller</th>\n      <td>34.65</td>\n    </tr>\n    <tr>\n      <th>Spectral Diamond Doomblade</th>\n      <td>29.75</td>\n    </tr>\n    <tr>\n      <th>Orenmir</th>\n      <td>29.70</td>\n    </tr>\n  </tbody>\n</table>\n</div>"
     },
     "metadata": {},
     "execution_count": 183
    }
   ],
   "source": [
    "df_prodMaisLucrativos[['Item', 'Valor']].groupby(by='Item').sum().sort_values(by='Valor', ascending=False)"
   ]
  },
  {
   "cell_type": "markdown",
   "metadata": {},
   "source": [
    "- A tabela acima mostra o valor total vendido dos produtos mais lucrativos."
   ]
  },
  {
   "cell_type": "markdown",
   "metadata": {
    "collapsed": true
   },
   "source": [
    "## Fim"
   ]
  },
  {
   "cell_type": "markdown",
   "metadata": {
    "collapsed": true
   },
   "source": [
    "### Obrigado - Data Science Academy - <a href=\"http://facebook.com/dsacademybr\">facebook.com/dsacademybr</a>"
   ]
  }
 ],
 "metadata": {
  "kernelspec": {
   "display_name": "Python 3.7.6 64-bit ('base': conda)",
   "language": "python",
   "name": "python37664bitbasecondacd731e7964624b5386b5065260651680"
  },
  "language_info": {
   "codemirror_mode": {
    "name": "ipython",
    "version": 3
   },
   "file_extension": ".py",
   "mimetype": "text/x-python",
   "name": "python",
   "nbconvert_exporter": "python",
   "pygments_lexer": "ipython3",
   "version": "3.7.6-final"
  }
 },
 "nbformat": 4,
 "nbformat_minor": 2
}